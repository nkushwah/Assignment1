{
 "cells": [
  {
   "cell_type": "markdown",
   "metadata": {},
   "source": [
    "# Task1"
   ]
  },
  {
   "cell_type": "markdown",
   "metadata": {},
   "source": [
    "**Question 1:\n",
    "- Write a Python Program to implement your own myreduce() function which works exactly like Python's built-in function reduce()"
   ]
  },
  {
   "cell_type": "code",
   "execution_count": 16,
   "metadata": {},
   "outputs": [
    {
     "name": "stdout",
     "output_type": "stream",
     "text": [
      "TypeError: reduce() of empty sequence with no initial value\n",
      "Sum of list1 is : None\n",
      "Sum of list2 is : 20\n",
      "Sum of list3 is : 40\n",
      "TypeError: reduce() of empty sequence with no initial value\n",
      "Multilpication of list1 is : None\n",
      "Multilpication of list2 is : 20\n",
      "Multilpication of list3 is : 96768\n"
     ]
    }
   ],
   "source": [
    "#Built in reduce functionaity is replicated by my_reduce(funct,listvalues) \n",
    "#where funct defines user defined function taking two inputs and performfing certain action\n",
    "#while listvalues denotes the list of array which will be used as input to funct.\n",
    "def my_reduce(funct , listvalues):\n",
    "    try:\n",
    "        result = listvalues[0]\n",
    "        for i in range(1,len(listvalues)):\n",
    "            result = funct(result,listvalues[i])\n",
    "        return result\n",
    "    except IndexError:\n",
    "        print('TypeError: reduce() of empty sequence with no initial value')\n",
    "    except TypeError:\n",
    "        print(\"TypeError: do_sum() missing 1 required positional argument\")\n",
    "        \n",
    "#Sum function\n",
    "def my_sum(a,b):\n",
    "    return a+b\n",
    "\n",
    "#Multiply function\n",
    "def my_mul(a,b):\n",
    "    return a*b\n",
    "\n",
    "test_list1 = []\n",
    "test_list2 = [20]\n",
    "test_list3 = [2,4,6,4,7,8,9]\n",
    "\n",
    "print(\"Sum of list1 is :\", my_reduce(my_sum,test_list1))\n",
    "print(\"Sum of list2 is :\", my_reduce(my_sum,test_list2))\n",
    "print(\"Sum of list3 is :\", my_reduce(my_sum,test_list3))\n",
    "\n",
    "print(\"Multilpication of list1 is :\", my_reduce(my_mul,test_list1))\n",
    "print(\"Multilpication of list2 is :\", my_reduce(my_mul,test_list2))\n",
    "print(\"Multilpication of list3 is :\", my_reduce(my_mul,test_list3))\n",
    "        "
   ]
  },
  {
   "cell_type": "markdown",
   "metadata": {},
   "source": []
  },
  {
   "cell_type": "markdown",
   "metadata": {},
   "source": []
  },
  {
   "cell_type": "markdown",
   "metadata": {},
   "source": [
    "**Question 2:\n",
    "- Write a Python program to implement your own myfilter() function which works exactly like Python's built-in function filter()"
   ]
  },
  {
   "cell_type": "code",
   "execution_count": 17,
   "metadata": {},
   "outputs": [
    {
     "name": "stdout",
     "output_type": "stream",
     "text": [
      "List1 is : []\n",
      "List2 is : [-20]\n",
      "List3 is : [-2]\n",
      "List1 is : []\n",
      "List2 is : [-20, 100]\n",
      "List3 is : [-2, 6, 18]\n"
     ]
    }
   ],
   "source": [
    "#Built in filter functionaity is replicated by my_filter(funct,listvalues) \n",
    "#where funct defines user defined function taking two inputs and performfing certain action\n",
    "#while listvalues denotes the list of array which will be used as input to funct.\n",
    "def my_filter(funct , listvalues):\n",
    "    try:\n",
    "        result = []\n",
    "        for i in range(0,len(listvalues)):\n",
    "            if(funct(listvalues[i])):\n",
    "                result.append(listvalues[i])\n",
    "        return result\n",
    "    except IndexError:\n",
    "        print('TypeError: reduce() of empty sequence with no initial value')\n",
    "    except TypeError:\n",
    "        print(\"TypeError: do_sum() missing 1 required positional argument\")\n",
    "        \n",
    "#Returns number list less then zero\n",
    "def my_filter1(a):\n",
    "    return a<0\n",
    "\n",
    "#Returns number list of even\n",
    "def my_filter2(a):\n",
    "    return a%2==0\n",
    "\n",
    "test_list1 = []\n",
    "test_list2 = [-20, 101, 100]\n",
    "test_list3 = [-2,3,6,7,18,19]\n",
    "\n",
    "print(\"List1 is :\", my_filter(my_filter1,test_list1))\n",
    "print(\"List2 is :\", my_filter(my_filter1,test_list2))\n",
    "print(\"List3 is :\", my_filter(my_filter1,test_list3))\n",
    "\n",
    "print(\"List1 is :\", my_filter(my_filter2,test_list1))\n",
    "print(\"List2 is :\", my_filter(my_filter2,test_list2))\n",
    "print(\"List3 is :\", my_filter(my_filter2,test_list3))"
   ]
  },
  {
   "cell_type": "markdown",
   "metadata": {},
   "source": []
  },
  {
   "cell_type": "markdown",
   "metadata": {},
   "source": []
  },
  {
   "cell_type": "markdown",
   "metadata": {},
   "source": [
    "**Question 3:\n",
    "- Write List comprehensions to produce the following Lists\n",
    "- ['A', 'C', 'A', 'D', 'G', 'I', ’L’, ‘ D’]\n",
    "- ['x', 'xx', 'xxx', 'xxxx', 'y', 'yy', 'yyy', 'yyyy', 'z', 'zz', 'zzz', 'zzzz']\n",
    "- ['x', 'y', 'z', 'xx', 'yy', 'zz', 'xx', 'yy', 'zz', 'xxxx', 'yyyy', 'zzzz']\n",
    "- [[2], [3], [4], [3], [4], [5], [4], [5], [6]]\n",
    "- [[2, 3, 4, 5], [3, 4, 5, 6], [4, 5, 6, 7], [5, 6, 7, 8]]\n",
    "- [(1, 1), (2, 1), (3, 1), (1, 2), (2, 2), (3, 2), (1, 3), (2, 3), (3, 3)]"
   ]
  },
  {
   "cell_type": "code",
   "execution_count": 27,
   "metadata": {},
   "outputs": [
    {
     "name": "stdout",
     "output_type": "stream",
     "text": [
      "['A', 'C', 'A', 'D', 'G', 'I', 'L', 'D']\n"
     ]
    }
   ],
   "source": [
    "#['A', 'C', 'A', 'D', 'G', 'I', ’L’, ‘ D’]\n",
    "list1 = [i for i in 'ACADGILD']\n",
    "print(str(list1))"
   ]
  },
  {
   "cell_type": "code",
   "execution_count": 30,
   "metadata": {},
   "outputs": [
    {
     "name": "stdout",
     "output_type": "stream",
     "text": [
      "['x', 'xx', 'xxx', 'xxxx', 'y', 'yy', 'yyy', 'yyyy', 'z', 'zz', 'zzz', 'zzzz']\n"
     ]
    }
   ],
   "source": [
    "#['x', 'xx', 'xxx', 'xxxx', 'y', 'yy', 'yyy', 'yyyy', 'z', 'zz', 'zzz', 'zzzz']\n",
    "list1 = [i*j for j in ['x','y','z'] for i in range(1,5)]\n",
    "print(str(list1))"
   ]
  },
  {
   "cell_type": "code",
   "execution_count": 35,
   "metadata": {},
   "outputs": [
    {
     "name": "stdout",
     "output_type": "stream",
     "text": [
      "['x', 'y', 'z', 'xx', 'yy', 'zz', 'xxx', 'yyy', 'zzz', 'xxxx', 'yyyy', 'zzzz']\n"
     ]
    }
   ],
   "source": [
    "#['x', 'y', 'z', 'xx', 'yy', 'zz', 'xx', 'yy', 'zz', 'xxxx', 'yyyy', 'zzzz']\n",
    "list1 = [i*j for i in range(1,5) for j in ['x','y','z'] ]\n",
    "print(str(list1))"
   ]
  },
  {
   "cell_type": "code",
   "execution_count": 40,
   "metadata": {},
   "outputs": [
    {
     "name": "stdout",
     "output_type": "stream",
     "text": [
      "[[2], [3], [4], [3], [4], [5], [4], [5], [6]]\n"
     ]
    }
   ],
   "source": [
    "#[[2], [3], [4], [3], [4], [5], [4], [5], [6]]\n",
    "list1= [[j+i] for i in range(0,3) for j in range(2,5)]\n",
    "print(list1)"
   ]
  },
  {
   "cell_type": "code",
   "execution_count": 47,
   "metadata": {},
   "outputs": [
    {
     "name": "stdout",
     "output_type": "stream",
     "text": [
      "[[2, 3, 4, 5], [3, 4, 5, 6], [4, 5, 6, 7], [5, 6, 7, 8]]\n"
     ]
    }
   ],
   "source": [
    "#[[2, 3, 4, 5], [3, 4, 5, 6], [4, 5, 6, 7], [5, 6, 7, 8]]\n",
    "list1= [[j,j+1,j+2,j+3] for j in range(2,6)]\n",
    "print(list1)"
   ]
  },
  {
   "cell_type": "code",
   "execution_count": 49,
   "metadata": {},
   "outputs": [
    {
     "name": "stdout",
     "output_type": "stream",
     "text": [
      "[(1, 1), (2, 1), (3, 1), (1, 2), (2, 2), (3, 2), (1, 3), (2, 3), (3, 3)]\n"
     ]
    }
   ],
   "source": [
    "#[(1, 1), (2, 1), (3, 1), (1, 2), (2, 2), (3, 2), (1, 3), (2, 3), (3, 3)]\n",
    "list1= [(j,i) for i in range(1,4) for j in range(1,4)]\n",
    "print(list1)"
   ]
  },
  {
   "cell_type": "markdown",
   "metadata": {},
   "source": []
  },
  {
   "cell_type": "markdown",
   "metadata": {},
   "source": []
  },
  {
   "cell_type": "markdown",
   "metadata": {},
   "source": [
    "**Question 4:\n",
    "- Implement a function longestWord() that takes a list of words and returns the longest one."
   ]
  },
  {
   "cell_type": "code",
   "execution_count": 63,
   "metadata": {},
   "outputs": [
    {
     "name": "stdout",
     "output_type": "stream",
     "text": [
      "aaaaaa\n"
     ]
    }
   ],
   "source": [
    "#Function returns longest word of a list defined by user\n",
    "def longestWord(wordlists):\n",
    "    lenword = 0\n",
    "    word = ''\n",
    "    for wordlist in wordlists:\n",
    "        if(len(wordlist)>lenword):\n",
    "            lenword = len(wordlist)\n",
    "            word = wordlist\n",
    "    return word\n",
    "\n",
    "#test list\n",
    "wordlist1 = ['aaaaaa','bbb','c','ddddd']\n",
    "#result of longest word in a list\n",
    "print(longestWord(wordlist1))\n",
    "    "
   ]
  },
  {
   "cell_type": "markdown",
   "metadata": {},
   "source": []
  },
  {
   "cell_type": "markdown",
   "metadata": {},
   "source": []
  },
  {
   "cell_type": "markdown",
   "metadata": {},
   "source": [
    "# Task2"
   ]
  },
  {
   "cell_type": "markdown",
   "metadata": {},
   "source": [
    "**Question 5:\n",
    "- Write a Python Program(with class concepts) to find the area of the triangle using the below formula.\n",
    "- area = (s*(s-a)*(s-b)*(s-c)) ** 0.5\n",
    "- Function to take the length of the sides of triangle from user should be defined in the parent\n",
    "- class and function to calculate the area should be defined in subclass."
   ]
  },
  {
   "cell_type": "code",
   "execution_count": 95,
   "metadata": {},
   "outputs": [
    {
     "name": "stdout",
     "output_type": "stream",
     "text": [
      "Enter the length of side x: 3\n",
      "Enter the length of side y: 4\n",
      "Enter the length of side z: 5\n",
      "Area of triangle is : 6.0\n"
     ]
    }
   ],
   "source": [
    "#Parent Class takes lentgh inputs of all three sides \n",
    "class Triangle:\n",
    "    def __init__(self,x,y,z):\n",
    "        self.x = float(x)\n",
    "        self.y = float(y)\n",
    "        self.z = float(z)\n",
    "\n",
    "#subclass gives the area of Triangle \n",
    "class AreaOfTriangle(Triangle):\n",
    "        def Area(self):\n",
    "            s = (self.x+self.y+self.z)/2\n",
    "            return float(round((s*(s-self.x)*(s-self.y)*(s-self.z))**0.5,2))\n",
    "\n",
    "side_x = float(input('Enter the length of side x: '))\n",
    "side_y = float(input('Enter the length of side y: '))\n",
    "side_z = float(input('Enter the length of side z: '))\n",
    "t1 = AreaOfTriangle(side_x, side_y, side_z)\n",
    "print(f\"Area of triangle is : {t1.Area()}\")"
   ]
  },
  {
   "cell_type": "markdown",
   "metadata": {},
   "source": []
  },
  {
   "cell_type": "markdown",
   "metadata": {},
   "source": []
  },
  {
   "cell_type": "markdown",
   "metadata": {},
   "source": [
    "**Question 5:\n",
    "- Write a function filter_long_words() that takes a list of words and an integer n and returns the list of words that are longer than n."
   ]
  },
  {
   "cell_type": "code",
   "execution_count": 97,
   "metadata": {},
   "outputs": [
    {
     "name": "stdout",
     "output_type": "stream",
     "text": [
      "['aaaaaa', 'ddddd']\n"
     ]
    }
   ],
   "source": [
    "#The function based on length of the word greater then n, returns a new list\n",
    "def filter_long_words(wordlists, n):\n",
    "    wordlistsNew = []\n",
    "    for wordlist in wordlists:\n",
    "        if(len(wordlist)>n):\n",
    "            wordlistsNew.append(wordlist)\n",
    "    return wordlistsNew\n",
    "\n",
    "#test list\n",
    "wordlist1 = ['aaaaaa','bbb','c','ddddd']\n",
    "#result of longest word in a list\n",
    "print(filter_long_words(wordlist1,3))"
   ]
  },
  {
   "cell_type": "markdown",
   "metadata": {},
   "source": []
  },
  {
   "cell_type": "markdown",
   "metadata": {},
   "source": []
  },
  {
   "cell_type": "markdown",
   "metadata": {},
   "source": [
    "**Question 6:\n",
    "- Write a Python program using function concept that maps list of words into a list of integers representing the lengths of the corresponding words ."
   ]
  },
  {
   "cell_type": "code",
   "execution_count": 98,
   "metadata": {},
   "outputs": [
    {
     "name": "stdout",
     "output_type": "stream",
     "text": [
      "[6, 3, 1, 5]\n"
     ]
    }
   ],
   "source": [
    "#The function returns the length of each word in a list back to list format, like map function\n",
    "def MapListToInt(wordlists):\n",
    "    wordLenList = []\n",
    "    for wordlist in wordlists:\n",
    "        wordLenList.append(len(wordlist))\n",
    "    return wordLenList\n",
    "\n",
    "#test list\n",
    "wordlist1 = ['aaaaaa','bbb','c','ddddd']\n",
    "#result of longest word in a list\n",
    "print(MapListToInt(wordlist1))"
   ]
  },
  {
   "cell_type": "markdown",
   "metadata": {},
   "source": []
  },
  {
   "cell_type": "markdown",
   "metadata": {},
   "source": []
  },
  {
   "cell_type": "markdown",
   "metadata": {},
   "source": [
    "**Question 6:\n",
    "- Write a Python function which takes a character (i.e. a string of length 1) and returns True if it is a vowel, False otherwise."
   ]
  },
  {
   "cell_type": "code",
   "execution_count": 108,
   "metadata": {},
   "outputs": [
    {
     "name": "stdout",
     "output_type": "stream",
     "text": [
      "True\n",
      "False\n",
      "True\n"
     ]
    }
   ],
   "source": [
    "#The funstion test if character is vowl or not\n",
    "def IsVowel(char):\n",
    "    isVowel = False\n",
    "    if(str(char) in 'aeiouAEIOU'):\n",
    "        isVowel = True\n",
    "    return isVowel\n",
    " \n",
    "print(IsVowel('e'))\n",
    "print(IsVowel('b'))\n",
    "print(IsVowel('I'))"
   ]
  }
 ],
 "metadata": {
  "kernelspec": {
   "display_name": "Python 3",
   "language": "python",
   "name": "python3"
  },
  "language_info": {
   "codemirror_mode": {
    "name": "ipython",
    "version": 3
   },
   "file_extension": ".py",
   "mimetype": "text/x-python",
   "name": "python",
   "nbconvert_exporter": "python",
   "pygments_lexer": "ipython3",
   "version": "3.7.3"
  }
 },
 "nbformat": 4,
 "nbformat_minor": 2
}
